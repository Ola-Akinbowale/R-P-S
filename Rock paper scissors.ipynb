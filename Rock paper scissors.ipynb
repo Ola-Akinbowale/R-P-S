{
 "cells": [
  {
   "cell_type": "code",
   "execution_count": 2,
   "metadata": {},
   "outputs": [
    {
     "name": "stdout",
     "output_type": "stream",
     "text": [
      "Computer pick: scissors.\n",
      "You won!\n",
      "Computer pick: rock.\n",
      "You lost!\n",
      "Computer pick: scissors.\n",
      "You won!\n",
      "Computer pick: scissors.\n",
      "You won!\n",
      "Computer pick: paper.\n",
      "You lost!\n",
      "You won 3 times.\n",
      "Computer wins 2 times.\n",
      "Goodbye!\n"
     ]
    }
   ],
   "source": [
    "import random \n",
    "\n",
    "user_wins = 0\n",
    "computer_wins = 0\n",
    "\n",
    "options = [\"rock\", \"paper\", \"scissors\"]\n",
    "\n",
    "\n",
    "while True:\n",
    "\tuser_input = input(\"type rock/paper/scissors or q to quit: \").lower()\n",
    "\tif user_input == \"q\":\n",
    "\t\tbreak\n",
    "\n",
    "\tif user_input not in options:\n",
    "\t\tcontinue\n",
    "\n",
    "\trandom_number = random.randint(0,2)\n",
    "\t#rock: 0, paper: 1, scissors: 2\n",
    "\tcomputer_pick = options[random_number]\n",
    "\tprint(\"Computer pick:\", computer_pick + \".\")\n",
    "\n",
    "\tif user_input == \"rock\" and computer_pick == \"scissors\":\n",
    "\t\tprint(\"You won!\")\n",
    "\t\tuser_wins += 1\n",
    "\t\t\n",
    "\telif user_input == \"paper\" and computer_pick == \"rock\":\n",
    "\t\tprint(\"You won!\")\n",
    "\t\tuser_wins += 1\n",
    "\t\t\n",
    "\n",
    "\telif user_input == \"scissors\" and computer_pick == \"paper\":\n",
    "\t\tprint(\"You won!\")\n",
    "\t\tuser_wins += 1\n",
    "\t\n",
    "\telse: \n",
    "\t\tprint(\"You lost!\")\n",
    "\t\tcomputer_wins += 1\n",
    "\n",
    "print(\"You won\", user_wins, \"times.\")\n",
    "print(\"Computer wins\", computer_wins, \"times.\")\n",
    "\n",
    "print(\"Goodbye!\")"
   ]
  }
 ],
 "metadata": {
  "interpreter": {
   "hash": "c6d81e9ed5df231587e5ac2a4719e7f8daef8f2ffe29f0c9d70fc81905d85498"
  },
  "kernelspec": {
   "display_name": "Python 3.10.4 64-bit",
   "language": "python",
   "name": "python3"
  },
  "language_info": {
   "codemirror_mode": {
    "name": "ipython",
    "version": 3
   },
   "file_extension": ".py",
   "mimetype": "text/x-python",
   "name": "python",
   "nbconvert_exporter": "python",
   "pygments_lexer": "ipython3",
   "version": "3.10.4"
  },
  "orig_nbformat": 4
 },
 "nbformat": 4,
 "nbformat_minor": 2
}
